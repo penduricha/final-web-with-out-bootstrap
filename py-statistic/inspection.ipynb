{
 "cells": [
  {
   "cell_type": "code",
   "execution_count": 1,
   "metadata": {},
   "outputs": [],
   "source": [
    "import numpy as np\n",
    "import scipy.stats as stats"
   ]
  },
  {
   "cell_type": "code",
   "execution_count": 2,
   "metadata": {},
   "outputs": [],
   "source": [
    "# Yêu cầu kiểm định 2 phía\n",
    "# H0 khác H1, 2 phía, H0 > H1 hoặc H0 < H1 thì 1 phía\n",
    "# n = 420095\n",
    "# x = 135\n",
    "# muy = 0.0340 / 100\n",
    "# alpha =  0.005\n",
    "# #mặc định ko có độ lệch chuẩn quần thể\n",
    "# sigma = 0"
   ]
  },
  {
   "cell_type": "code",
   "execution_count": 3,
   "metadata": {},
   "outputs": [],
   "source": [
    "n = 50\n",
    "x = 5.23\n",
    "muy = 5.4\n",
    "sigma = 0.54\n",
    "alpha = 0.01"
   ]
  },
  {
   "cell_type": "code",
   "execution_count": 4,
   "metadata": {},
   "outputs": [],
   "source": [
    "# p_value = x / n\n",
    "# p_value = round(p_value, 8)\n",
    "# p_value"
   ]
  },
  {
   "cell_type": "code",
   "execution_count": 5,
   "metadata": {},
   "outputs": [
    {
     "data": {
      "text/plain": [
       "-2.2261"
      ]
     },
     "execution_count": 5,
     "metadata": {},
     "output_type": "execute_result"
    }
   ],
   "source": [
    "if n > 30 and sigma == 0:\n",
    "    z_score = ((x / n) - muy) / (np.sqrt((muy * (1 - muy)) / n))\n",
    "else:\n",
    "    z_score = (x - muy) / (sigma / np.sqrt(n))\n",
    "round(z_score, 4)"
   ]
  },
  {
   "cell_type": "code",
   "execution_count": 6,
   "metadata": {},
   "outputs": [
    {
     "data": {
      "text/plain": [
       "0.013003741974961543"
      ]
     },
     "execution_count": 6,
     "metadata": {},
     "output_type": "execute_result"
    }
   ],
   "source": [
    "#Tính value\n",
    "p_value = stats.norm.cdf(round(z_score, 4)) \n",
    "# p_value = p_value * 2\n",
    "p_value"
   ]
  },
  {
   "cell_type": "code",
   "execution_count": 7,
   "metadata": {},
   "outputs": [
    {
     "name": "stdout",
     "output_type": "stream",
     "text": [
      "Chấp nhận giả thuyết H0.\n"
     ]
    }
   ],
   "source": [
    "if p_value > alpha:\n",
    "    print('Chấp nhận giả thuyết H0.')\n",
    "else:\n",
    "    print('Bác bỏ giả thuyết H0.')"
   ]
  }
 ],
 "metadata": {
  "kernelspec": {
   "display_name": "Python 3",
   "language": "python",
   "name": "python3"
  },
  "language_info": {
   "codemirror_mode": {
    "name": "ipython",
    "version": 3
   },
   "file_extension": ".py",
   "mimetype": "text/x-python",
   "name": "python",
   "nbconvert_exporter": "python",
   "pygments_lexer": "ipython3",
   "version": "3.12.3"
  }
 },
 "nbformat": 4,
 "nbformat_minor": 2
}
