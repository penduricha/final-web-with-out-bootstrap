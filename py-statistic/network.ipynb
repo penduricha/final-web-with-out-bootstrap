{
 "cells": [
  {
   "cell_type": "code",
   "execution_count": 81,
   "metadata": {},
   "outputs": [],
   "source": [
    "import numpy as np\n",
    "import networkx as nx\n",
    "import pandas as pd"
   ]
  },
  {
   "cell_type": "code",
   "execution_count": 82,
   "metadata": {},
   "outputs": [],
   "source": [
    "# I.Phương pháp kiểm tra và phát hiện lỗi CRC, Hamming code:\n",
    "# Phương pháp CRC với đa thức sinh  \n",
    "# 1.Cho chuỗi bit dữ liệu 11101010101. Tính chuỗi bit được truyền đi trên mạng.\n",
    "# G(x) = x ** 4 + x + 1\n",
    "# G2(x) =\n",
    "# r = "
   ]
  },
  {
   "cell_type": "code",
   "execution_count": 83,
   "metadata": {},
   "outputs": [],
   "source": [
    "class Polynomial:\n",
    "    def __init__(self, *terms):\n",
    "        self.terms = terms\n",
    "    def __str__(self):\n",
    "        return ' + '.join(f\"x^{term}\" if term > 1 else \"x\" if term == 1 else \"1\" for term in self.terms)\n",
    "    def to_binary(self):\n",
    "        max_degree = self.terms[0]  \n",
    "        binary_representation = ['0'] * (max_degree + 1)  \n",
    "        for term in self.terms:\n",
    "            binary_representation[max_degree - term] = '1'  \n",
    "        return ''.join(binary_representation)"
   ]
  },
  {
   "cell_type": "code",
   "execution_count": 84,
   "metadata": {},
   "outputs": [
    {
     "name": "stdout",
     "output_type": "stream",
     "text": [
      "Đa thức sinh G(x): x^4 + x + 1\n",
      "Đa thức sinh G(x) dưới dạng nhị phân: 10011\n"
     ]
    }
   ],
   "source": [
    "G = Polynomial(4, 1, 0)  \n",
    "print(\"Đa thức sinh G(x):\", G)\n",
    "print(\"Đa thức sinh G(x) dưới dạng nhị phân:\", G.to_binary())"
   ]
  },
  {
   "cell_type": "code",
   "execution_count": 85,
   "metadata": {},
   "outputs": [],
   "source": [
    "def xor(dividend, divisor):\n",
    "    result = []\n",
    "    for i in range(len(divisor)):\n",
    "        result.append(str(int(dividend[i]) ^ int(divisor[i])))\n",
    "    return ''.join(result)\n",
    "\n",
    "def crc(data, generator):\n",
    "    padded_data = data + '0' * (len(generator) - 1)\n",
    "    data_len = len(padded_data)\n",
    "    divisor_len = len(generator)\n",
    "    quotient = []\n",
    "    for i in range(data_len - divisor_len + 1):\n",
    "        if padded_data[i] == '1': \n",
    "            padded_data = padded_data[:i] + xor(padded_data[i:i + divisor_len], generator) + padded_data[i + divisor_len:]\n",
    "            quotient.append('1')  \n",
    "        else:\n",
    "            quotient.append('0')  \n",
    "    remainder = padded_data[-(divisor_len - 1):]\n",
    "    return ''.join(quotient), remainder"
   ]
  },
  {
   "cell_type": "code",
   "execution_count": 86,
   "metadata": {},
   "outputs": [
    {
     "name": "stdout",
     "output_type": "stream",
     "text": [
      "Thương: 11111010010\n",
      "Phần dư: 0110\n",
      "Chuỗi bit được truyền đi: 111010101010110\n"
     ]
    }
   ],
   "source": [
    "data = '11101010101'\n",
    "generator = str(G.to_binary())\n",
    "quotient, remainder = crc(data, generator)\n",
    "transmitted_data = data + remainder\n",
    "\n",
    "print(\"Thương:\", quotient)\n",
    "print(\"Phần dư:\", remainder)\n",
    "print(\"Chuỗi bit được truyền đi:\", transmitted_data)"
   ]
  },
  {
   "cell_type": "code",
   "execution_count": 87,
   "metadata": {},
   "outputs": [],
   "source": [
    "def crc_check(received_data, generator):\n",
    "    data_len = len(received_data)\n",
    "    divisor_len = len(generator)\n",
    "    for i in range(data_len - divisor_len + 1):\n",
    "        if received_data[i] == '1': \n",
    "            received_data = received_data[:i] + xor(received_data[i:i + divisor_len], generator) + received_data[i + divisor_len:]\n",
    "    remainder = received_data[-(divisor_len - 1):]\n",
    "    return 'Đ' if all(bit == '0' for bit in remainder) else 'S'"
   ]
  },
  {
   "cell_type": "code",
   "execution_count": 88,
   "metadata": {},
   "outputs": [
    {
     "name": "stdout",
     "output_type": "stream",
     "text": [
      "Thương: 101101110011100\n",
      "Phần dư: 0100\n",
      "Chuỗi bit được truyền đi: 1010101010101100100\n"
     ]
    }
   ],
   "source": [
    "received_data = '101010101010110'\n",
    "generator = str(G.to_binary())\n",
    "quotient, remainder = crc(received_data, generator)\n",
    "transmitted_data = received_data + remainder\n",
    "\n",
    "print(\"Thương:\", quotient)\n",
    "print(\"Phần dư:\", remainder)\n",
    "print(\"Chuỗi bit được truyền đi:\", transmitted_data)"
   ]
  },
  {
   "cell_type": "code",
   "execution_count": 89,
   "metadata": {},
   "outputs": [
    {
     "name": "stdout",
     "output_type": "stream",
     "text": [
      "Kết quả kiểm tra chuỗi bit: S\n"
     ]
    }
   ],
   "source": [
    "result = crc_check(received_data, generator)\n",
    "print(\"Kết quả kiểm tra chuỗi bit:\", result)"
   ]
  },
  {
   "cell_type": "code",
   "execution_count": 90,
   "metadata": {},
   "outputs": [],
   "source": [
    "def calculate_parity_bits(data):\n",
    "    n = len(data)\n",
    "    r = 0\n",
    "    while (2 ** r < n + r + 1):\n",
    "        r += 1\n",
    "    hamming_code = ['0'] * (n + r)\n",
    "    j = 0  \n",
    "    for i in range(1, n + r + 1):\n",
    "        if i == 2 ** j: \n",
    "            j += 1\n",
    "        else:\n",
    "            hamming_code[i - 1] = data[i - j - 1]\n",
    "    for i in range(r):\n",
    "        parity_position = 2 ** i\n",
    "        parity_sum = 0\n",
    "        for j in range(1, n + r + 1):\n",
    "            if j & parity_position:  \n",
    "                parity_sum += int(hamming_code[j - 1])\n",
    "        hamming_code[parity_position - 1] = str(parity_sum % 2)\n",
    "    return ''.join(hamming_code)"
   ]
  },
  {
   "cell_type": "code",
   "execution_count": 91,
   "metadata": {},
   "outputs": [
    {
     "name": "stdout",
     "output_type": "stream",
     "text": [
      "Chuỗi bit cần truyền (Mã Hamming): 001010100110\n"
     ]
    }
   ],
   "source": [
    "#Hamming\n",
    "data_hamming = '11010110'\n",
    "transmitted_code = calculate_parity_bits(data_hamming)\n",
    "print(\"Chuỗi bit cần truyền (Mã Hamming):\", transmitted_code)"
   ]
  },
  {
   "cell_type": "code",
   "execution_count": 92,
   "metadata": {},
   "outputs": [],
   "source": [
    "def calculate_parity_bits(received_code):\n",
    "    n = len(received_code)\n",
    "    r = 0\n",
    "    while (2 ** r < n + 1):\n",
    "        r += 1\n",
    "    error_position = 0\n",
    "    for i in range(r):\n",
    "        parity_position = 2 ** i\n",
    "        parity_sum = 0\n",
    "        for j in range(1, n + 1):\n",
    "            if j & parity_position:  \n",
    "                parity_sum += int(received_code[j - 1])\n",
    "        if parity_sum % 2 != 0:\n",
    "            error_position += parity_position\n",
    "    return error_position"
   ]
  },
  {
   "cell_type": "code",
   "execution_count": 93,
   "metadata": {},
   "outputs": [
    {
     "name": "stdout",
     "output_type": "stream",
     "text": [
      "Chuỗi mã Hamming không hợp lệ (S). Vị trí lỗi: 6.\n"
     ]
    }
   ],
   "source": [
    "received_code = '001011100110'\n",
    "error_position = calculate_parity_bits(received_code)\n",
    "if error_position == 0:\n",
    "    print(\"Chuỗi mã Hamming là hợp lệ (Đ).\")\n",
    "else:\n",
    "    print(f\"Chuỗi mã Hamming không hợp lệ (S). Vị trí lỗi: {error_position}.\")"
   ]
  }
 ],
 "metadata": {
  "kernelspec": {
   "display_name": "Python 3",
   "language": "python",
   "name": "python3"
  },
  "language_info": {
   "codemirror_mode": {
    "name": "ipython",
    "version": 3
   },
   "file_extension": ".py",
   "mimetype": "text/x-python",
   "name": "python",
   "nbconvert_exporter": "python",
   "pygments_lexer": "ipython3",
   "version": "3.12.3"
  }
 },
 "nbformat": 4,
 "nbformat_minor": 2
}
