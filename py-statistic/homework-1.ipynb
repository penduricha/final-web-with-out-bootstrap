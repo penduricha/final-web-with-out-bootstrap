{
 "cells": [
  {
   "cell_type": "code",
   "execution_count": 52,
   "metadata": {},
   "outputs": [],
   "source": [
    "from scipy.stats import t\n",
    "import numpy as np\n",
    "import scipy.stats as stats"
   ]
  },
  {
   "cell_type": "code",
   "execution_count": 53,
   "metadata": {},
   "outputs": [],
   "source": [
    "# Kích thước mẫu: n = 25\n",
    "# Tuổi thọ trung bình của mẫu: x_mean = 5000 (giờ)\n",
    "# Độ lệch chuẩn của mẫu: s = 200 (giờ)\n",
    "# Độ tin cậy: 1 − α = 0.95, do đó α = 0.05\n",
    "n = 25\n",
    "x_mean = 5000\n",
    "s = 200\n",
    "alpha = 1 - 0.95\n",
    "df = n - 1"
   ]
  },
  {
   "cell_type": "code",
   "execution_count": 54,
   "metadata": {},
   "outputs": [
    {
     "data": {
      "text/plain": [
       "2.0638985616280205"
      ]
     },
     "execution_count": 54,
     "metadata": {},
     "output_type": "execute_result"
    }
   ],
   "source": [
    "t_critical = t.ppf (1 - alpha / 2, df=n -1)\n",
    "t_critical"
   ]
  },
  {
   "cell_type": "code",
   "execution_count": 55,
   "metadata": {},
   "outputs": [
    {
     "name": "stdout",
     "output_type": "stream",
     "text": [
      "Khoảng ước lượng là [4917.44, 5082.56]\n"
     ]
    }
   ],
   "source": [
    "e_left = round(x_mean - t_critical * (s / np.sqrt(n)), 2)\n",
    "e_right = round(x_mean + t_critical * (s / np.sqrt(n)), 2)\n",
    "print(f'Khoảng ước lượng là [{e_left}, {e_right}]')"
   ]
  },
  {
   "cell_type": "code",
   "execution_count": 56,
   "metadata": {},
   "outputs": [],
   "source": [
    "# Kiểm định\n",
    "# Giả sử chúng ta muốn xác định tỷ lệ người lớn ở Hoa Kỳ đang sử dụng Internet.\n",
    "# Có bao nhiêu người lớn cần được khảo sát để có thể tự tin 95% rằng tỷ lệ mẫu\n",
    "# có sai số (E) không quá 3%?\n",
    "# (a) Sử dụng kết quả từ một cuộc thăm dò của Trung tâm Nghiên cứu Pew: Vào\n",
    "# năm 2006, 73% người lớn ở Hoa Kỳ sử dụng Internet.\n",
    "# (b) Giả sử rằng chúng ta không có thông tin về tỷ lệ này.\n",
    "e = 3 / 100\n",
    "p = 73 / 100"
   ]
  },
  {
   "cell_type": "code",
   "execution_count": 57,
   "metadata": {},
   "outputs": [
    {
     "data": {
      "text/plain": [
       "1.96"
      ]
     },
     "execution_count": 57,
     "metadata": {},
     "output_type": "execute_result"
    }
   ],
   "source": [
    "# Tính z(α/2)\n",
    "alpha = 0.05\n",
    "z_value = stats.norm.ppf(1 - alpha / 2)\n",
    "round(z_value, 2)"
   ]
  },
  {
   "cell_type": "code",
   "execution_count": 58,
   "metadata": {},
   "outputs": [
    {
     "name": "stdout",
     "output_type": "stream",
     "text": [
      "Vậy, cần khảo sát ít nhất: 841\n"
     ]
    }
   ],
   "source": [
    "q = 1 - p\n",
    "n = round((z_value ** 2 * p * q) / (e ** 2))\n",
    "print('Vậy, cần khảo sát ít nhất:',n)"
   ]
  },
  {
   "cell_type": "code",
   "execution_count": 59,
   "metadata": {},
   "outputs": [
    {
     "name": "stdout",
     "output_type": "stream",
     "text": [
      "Vậy, cần khảo sát ít nhất: 1067\n"
     ]
    }
   ],
   "source": [
    "#Giả sử không có thông tin về tỷ lệ này => p = 0.5\n",
    "p = 0.5\n",
    "q = 1 - p\n",
    "n = round((z_value ** 2 * p * q) / (e ** 2))\n",
    "print('Vậy, cần khảo sát ít nhất:',n)"
   ]
  }
 ],
 "metadata": {
  "kernelspec": {
   "display_name": "Python 3",
   "language": "python",
   "name": "python3"
  },
  "language_info": {
   "codemirror_mode": {
    "name": "ipython",
    "version": 3
   },
   "file_extension": ".py",
   "mimetype": "text/x-python",
   "name": "python",
   "nbconvert_exporter": "python",
   "pygments_lexer": "ipython3",
   "version": "3.12.3"
  }
 },
 "nbformat": 4,
 "nbformat_minor": 2
}
